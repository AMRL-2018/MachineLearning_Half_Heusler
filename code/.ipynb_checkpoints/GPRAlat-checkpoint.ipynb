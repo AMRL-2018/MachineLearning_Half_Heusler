{
 "cells": [
  {
   "cell_type": "code",
   "execution_count": 1,
   "metadata": {
    "executionInfo": {
     "elapsed": 5005,
     "status": "ok",
     "timestamp": 1710490682786,
     "user": {
      "displayName": "Laxman Chaudhary",
      "userId": "12630204473110541440"
     },
     "user_tz": -345
    },
    "id": "RwxFqK-2D7Th"
   },
   "outputs": [],
   "source": [
    "from sklearn.gaussian_process import GaussianProcessRegressor\n",
    "from sklearn.gaussian_process.kernels import RBF\n",
    "from sklearn.model_selection import GridSearchCV,train_test_split\n",
    "from sklearn.metrics import mean_squared_error, make_scorer,r2_score, mean_absolute_error\n",
    "from PreproccesingAlatt import X, y"
   ]
  },
  {
   "cell_type": "code",
   "execution_count": 2,
   "metadata": {
    "executionInfo": {
     "elapsed": 617,
     "status": "ok",
     "timestamp": 1710490683396,
     "user": {
      "displayName": "Laxman Chaudhary",
      "userId": "12630204473110541440"
     },
     "user_tz": -345
    },
    "id": "iWPp2UH8EFT9"
   },
   "outputs": [],
   "source": [
    "X_train, X_test, y_train, y_test = train_test_split(X, y, test_size=0.2, random_state=42)"
   ]
  },
  {
   "cell_type": "code",
   "execution_count": 3,
   "metadata": {
    "colab": {
     "base_uri": "https://localhost:8080/"
    },
    "executionInfo": {
     "elapsed": 21552,
     "status": "ok",
     "timestamp": 1710490704943,
     "user": {
      "displayName": "Laxman Chaudhary",
      "userId": "12630204473110541440"
     },
     "user_tz": -345
    },
    "id": "SboCu6SLEP6D",
    "outputId": "18b27247-c2c2-4161-e2cf-b062b88f3824"
   },
   "outputs": [
    {
     "name": "stdout",
     "output_type": "stream",
     "text": [
      "Mean Squared Error: 0.011816259351706411\n",
      "R2: 0.9903002089324373\n"
     ]
    }
   ],
   "source": [
    "model = GaussianProcessRegressor()\n",
    "\n",
    "param_grid = {\n",
    "    'kernel': [1.0 * RBF(length_scale=1.0), 1.0 * RBF(length_scale=0.5)],\n",
    "    'alpha': [0.1, 0.01, 0.001],\n",
    "    'optimizer': ['fmin_l_bfgs_b']\n",
    "}\n",
    "\n",
    "mse_scorer = make_scorer(mean_squared_error)\n",
    "grid_search = GridSearchCV(estimator=model, param_grid=param_grid, scoring=mse_scorer, cv=5)\n",
    "grid_search.fit(X_train, y_train)\n",
    "best_model = grid_search.best_estimator_\n",
    "best_model.fit(X_train, y_train)\n",
    "y_pred = best_model.predict(X_test)\n",
    "mse = mean_squared_error(y_test, y_pred)\n",
    "print(\"Mean Squared Error:\", mse)\n",
    "print(\"R2:\",r2_score(y_test, y_pred))"
   ]
  },
  {
   "cell_type": "code",
   "execution_count": 4,
   "metadata": {
    "colab": {
     "base_uri": "https://localhost:8080/"
    },
    "executionInfo": {
     "elapsed": 678,
     "status": "ok",
     "timestamp": 1710490705614,
     "user": {
      "displayName": "Laxman Chaudhary",
      "userId": "12630204473110541440"
     },
     "user_tz": -345
    },
    "id": "ffVYg76BEads",
    "outputId": "32c1515e-0083-43d9-a2f8-68c5334be5cf"
   },
   "outputs": [
    {
     "name": "stdout",
     "output_type": "stream",
     "text": [
      "Mean Squared Error: 0.011816259351706411\n",
      "mae: 0.07704455067309192\n",
      "R2: 0.9903002089324373\n"
     ]
    }
   ],
   "source": [
    "print(\"Mean Squared Error:\", mse)\n",
    "print(\"mae:\",mean_absolute_error(y_test, y_pred))\n",
    "print(\"R2:\",r2_score(y_test, y_pred))"
   ]
  },
  {
   "cell_type": "code",
   "execution_count": 5,
   "metadata": {
    "executionInfo": {
     "elapsed": 10,
     "status": "ok",
     "timestamp": 1710490722224,
     "user": {
      "displayName": "Laxman Chaudhary",
      "userId": "12630204473110541440"
     },
     "user_tz": -345
    },
    "id": "M16XYY4fJKRN"
   },
   "outputs": [],
   "source": [
    "import pickle"
   ]
  },
  {
   "cell_type": "code",
   "execution_count": 6,
   "metadata": {
    "executionInfo": {
     "elapsed": 515,
     "status": "ok",
     "timestamp": 1710490764094,
     "user": {
      "displayName": "Laxman Chaudhary",
      "userId": "12630204473110541440"
     },
     "user_tz": -345
    },
    "id": "o3qFDpOHMRqK"
   },
   "outputs": [],
   "source": [
    "with open(\"GPRAlat.pkl\", \"wb\") as f:\n",
    "  pickle.dump(best_model,f)"
   ]
  }
 ],
 "metadata": {
  "colab": {
   "authorship_tag": "ABX9TyO+T3P8Kl8VK0Q3JTquvtD8",
   "provenance": []
  },
  "kernelspec": {
   "display_name": "Python 3 (ipykernel)",
   "language": "python",
   "name": "python3"
  },
  "language_info": {
   "codemirror_mode": {
    "name": "ipython",
    "version": 3
   },
   "file_extension": ".py",
   "mimetype": "text/x-python",
   "name": "python",
   "nbconvert_exporter": "python",
   "pygments_lexer": "ipython3",
   "version": "3.9.17"
  }
 },
 "nbformat": 4,
 "nbformat_minor": 1
}
