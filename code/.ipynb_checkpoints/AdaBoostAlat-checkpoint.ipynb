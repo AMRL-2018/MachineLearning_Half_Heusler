{
 "cells": [
  {
   "cell_type": "code",
   "execution_count": 2,
   "metadata": {
    "executionInfo": {
     "elapsed": 502,
     "status": "ok",
     "timestamp": 1710490907461,
     "user": {
      "displayName": "Laxman Chaudhary",
      "userId": "12630204473110541440"
     },
     "user_tz": -345
    },
    "id": "rr1jIQuwAztd"
   },
   "outputs": [],
   "source": [
    "import numpy as np\n",
    "import pandas as pd\n",
    "import matplotlib.pyplot as plt\n",
    "import seaborn as sns\n",
    "from sklearn.model_selection import GridSearchCV, train_test_split\n",
    "from sklearn.metrics import r2_score, mean_squared_error,mean_absolute_error\n",
    "from sklearn.preprocessing import LabelEncoder, minmax_scale, StandardScaler\n",
    "from sklearn.ensemble import AdaBoostRegressor"
   ]
  },
  {
   "cell_type": "code",
   "execution_count": 3,
   "metadata": {
    "executionInfo": {
     "elapsed": 6,
     "status": "ok",
     "timestamp": 1710490907882,
     "user": {
      "displayName": "Laxman Chaudhary",
      "userId": "12630204473110541440"
     },
     "user_tz": -345
    },
    "id": "hhFBCsGwA8Xs"
   },
   "outputs": [],
   "source": [
    "df = pd.read_csv(\"HH-excell-file.csv\")\n",
    "df = df[[ 'ZX', 'ZAB', 'ZAB.1', 'mX', 'mAB', '∆mAB', 'rowX', 'rowAB', '∆rowAB',\n",
    "       'colX', 'colAB', '∆colAB', 'eX', 'eAB', '∆eAB', 'rX', 'rAB', '∆rAB',\n",
    "       'χX', 'χAB', '∆χAB', 'alatt', 'cv', 'cs', 'κ˜grain',\n",
    "       'κtransf', 'κforest', 'κanh','gap']]\n",
    "df = df.dropna()\n",
    "scaler = StandardScaler()\n",
    "df_scaled = pd.DataFrame(scaler.fit_transform(df), columns=df.columns)\n",
    "X = df_scaled.drop(columns=['alatt'])\n",
    "y = df_scaled[['alatt']]\n",
    "X_train, X_test, y_train, y_test = train_test_split(X, y, test_size=0.2, random_state=42)"
   ]
  },
  {
   "cell_type": "code",
   "execution_count": 4,
   "metadata": {
    "colab": {
     "base_uri": "https://localhost:8080/"
    },
    "executionInfo": {
     "elapsed": 37063,
     "status": "ok",
     "timestamp": 1710490944940,
     "user": {
      "displayName": "Laxman Chaudhary",
      "userId": "12630204473110541440"
     },
     "user_tz": -345
    },
    "id": "SBCgkLP8BG4b",
    "outputId": "2f08b7dc-0d1b-4934-a62b-6c51c65c3e26"
   },
   "outputs": [
    {
     "name": "stderr",
     "output_type": "stream",
     "text": [
      "/usr/local/lib/python3.10/dist-packages/sklearn/utils/validation.py:1143: DataConversionWarning: A column-vector y was passed when a 1d array was expected. Please change the shape of y to (n_samples, ), for example using ravel().\n",
      "  y = column_or_1d(y, warn=True)\n",
      "/usr/local/lib/python3.10/dist-packages/sklearn/utils/validation.py:1143: DataConversionWarning: A column-vector y was passed when a 1d array was expected. Please change the shape of y to (n_samples, ), for example using ravel().\n",
      "  y = column_or_1d(y, warn=True)\n"
     ]
    },
    {
     "name": "stdout",
     "output_type": "stream",
     "text": [
      "Best Hyperparameters: {'learning_rate': 1, 'loss': 'exponential', 'n_estimators': 50}\n",
      "Mean Squared Error: 0.014961708440334178\n",
      "Mean Absolute Error: 0.09762162386721761\n",
      "R-squared: 0.9877181566885571\n"
     ]
    }
   ],
   "source": [
    "# Define the hyperparameter grid for Grid Search\n",
    "param_grid = {\n",
    "    'n_estimators': [50, 100],\n",
    "    'learning_rate' : [0.01,0.05,0.1,0.3,1],\n",
    "    'loss' : ['linear', 'square', 'exponential']\n",
    "}\n",
    "\n",
    "# Create the RandomForestRegressor model\n",
    "model = AdaBoostRegressor()\n",
    "\n",
    "# Perform Grid Search\n",
    "grid_search = GridSearchCV(estimator=model, param_grid=param_grid, cv=3, scoring='neg_mean_squared_error', n_jobs=-1)\n",
    "grid_search.fit(X_train, y_train)\n",
    "\n",
    "\n",
    "# Get the best hyperparameters\n",
    "best_params = grid_search.best_params_\n",
    "\n",
    "# Train the model with the best hyperparameters\n",
    "best_model = AdaBoostRegressor(random_state=0, **best_params)\n",
    "best_model.fit(X_train, y_train)\n",
    "\n",
    "# Make predictions\n",
    "predictions = best_model.predict(X_test)\n",
    "\n",
    "# Evaluate the model\n",
    "mse = mean_squared_error(y_test, predictions)\n",
    "mae = mean_absolute_error(y_test, predictions)\n",
    "r2 = r2_score(y_test, predictions)\n",
    "\n",
    "# Print evaluation metrics\n",
    "print(\"Best Hyperparameters:\", best_params)\n",
    "print(\"Mean Squared Error:\", mse)\n",
    "print(\"Mean Absolute Error:\", mae)\n",
    "print(\"R-squared:\", r2)\n"
   ]
  },
  {
   "cell_type": "code",
   "execution_count": 5,
   "metadata": {
    "executionInfo": {
     "elapsed": 10,
     "status": "ok",
     "timestamp": 1710490987769,
     "user": {
      "displayName": "Laxman Chaudhary",
      "userId": "12630204473110541440"
     },
     "user_tz": -345
    },
    "id": "PYisltnjBU40"
   },
   "outputs": [],
   "source": [
    "import pickle"
   ]
  },
  {
   "cell_type": "code",
   "execution_count": 6,
   "metadata": {
    "executionInfo": {
     "elapsed": 525,
     "status": "ok",
     "timestamp": 1710491036620,
     "user": {
      "displayName": "Laxman Chaudhary",
      "userId": "12630204473110541440"
     },
     "user_tz": -345
    },
    "id": "nT1zzlfXNRoH"
   },
   "outputs": [],
   "source": [
    "with open(\"AdaboostAlat.pkl\", \"wb\") as f:\n",
    "  pickle.dump(best_model,f)"
   ]
  }
 ],
 "metadata": {
  "colab": {
   "authorship_tag": "ABX9TyNVZpI1vUWt9Z+aF2XwSsYB",
   "provenance": []
  },
  "kernelspec": {
   "display_name": "Python 3 (ipykernel)",
   "language": "python",
   "name": "python3"
  },
  "language_info": {
   "codemirror_mode": {
    "name": "ipython",
    "version": 3
   },
   "file_extension": ".py",
   "mimetype": "text/x-python",
   "name": "python",
   "nbconvert_exporter": "python",
   "pygments_lexer": "ipython3",
   "version": "3.9.17"
  }
 },
 "nbformat": 4,
 "nbformat_minor": 1
}
