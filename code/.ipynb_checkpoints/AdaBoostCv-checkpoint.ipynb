{
 "cells": [
  {
   "cell_type": "code",
   "execution_count": 1,
   "metadata": {
    "id": "4VRTYoUMZ_nF"
   },
   "outputs": [],
   "source": [
    "from sklearn.model_selection import GridSearchCV, train_test_split\n",
    "from sklearn.metrics import r2_score, mean_squared_error,mean_absolute_error\n",
    "from sklearn.ensemble import AdaBoostRegressor\n",
    "from P"
   ]
  },
  {
   "cell_type": "code",
   "execution_count": 2,
   "metadata": {
    "id": "gJMSyunTbxMS"
   },
   "outputs": [],
   "source": [
    "df = pd.read_csv(\"HH-excell-file.csv\")\n",
    "df = df[[ 'ZX', 'ZAB', 'ZAB.1', 'mX', 'mAB', '∆mAB', 'rowX', 'rowAB', '∆rowAB',\n",
    "       'colX', 'colAB', '∆colAB', 'eX', 'eAB', '∆eAB', 'rX', 'rAB', '∆rAB',\n",
    "       'χX', 'χAB', '∆χAB', 'alatt', 'cv', 'cs', 'κ˜grain',\n",
    "       'κtransf', 'κforest', 'κanh','gap']]\n",
    "df = df.dropna()\n",
    "scaler = StandardScaler()\n",
    "df_scaled = pd.DataFrame(scaler.fit_transform(df), columns=df.columns)\n",
    "X = df_scaled.drop(columns=['cs', 'cv'])\n",
    "y = df_scaled[['cs', 'cv']]\n",
    "X_train, X_test, y_train, y_test = train_test_split(X, y, test_size=0.2, random_state=42)\n"
   ]
  },
  {
   "cell_type": "code",
   "execution_count": 3,
   "metadata": {
    "colab": {
     "base_uri": "https://localhost:8080/"
    },
    "id": "-Vk1M49Eb4-z",
    "outputId": "39736fd7-0b9b-4efc-8e68-9dd2f69c2eac"
   },
   "outputs": [
    {
     "name": "stdout",
     "output_type": "stream",
     "text": [
      "Best Hyperparameters: {'learning_rate': 1, 'loss': 'exponential', 'n_estimators': 100}\n",
      "Mean Squared Error: 0.028365841784724163\n",
      "Mean Absolute Error: 0.09311694534832604\n",
      "R-squared: 0.9760678619803863\n"
     ]
    }
   ],
   "source": [
    "# Define the hyperparameter grid for Grid Search\n",
    "param_grid = {\n",
    "    'n_estimators': [50, 100],\n",
    "    'learning_rate' : [0.01,0.05,0.1,0.3,1],\n",
    "    'loss' : ['linear', 'square', 'exponential']\n",
    "}\n",
    "\n",
    "# Create the RandomForestRegressor model\n",
    "model = AdaBoostRegressor()\n",
    "\n",
    "# Perform Grid Search\n",
    "grid_search = GridSearchCV(estimator=model, param_grid=param_grid, cv=3, scoring='neg_mean_squared_error', n_jobs=-1)\n",
    "grid_search.fit(X_train, y_train[\"cv\"])\n",
    "\n",
    "\n",
    "# Get the best hyperparameters\n",
    "best_params = grid_search.best_params_\n",
    "\n",
    "# Train the model with the best hyperparameters\n",
    "best_model = AdaBoostRegressor(random_state=0, **best_params)\n",
    "best_model.fit(X_train, y_train[\"cv\"])\n",
    "\n",
    "# Make predictions\n",
    "predictions = best_model.predict(X_test)\n",
    "\n",
    "# Evaluate the model\n",
    "mse = mean_squared_error(y_test[\"cv\"], predictions)\n",
    "mae = mean_absolute_error(y_test[\"cv\"], predictions)\n",
    "r2 = r2_score(y_test[\"cv\"], predictions)\n",
    "\n",
    "# Print evaluation metrics\n",
    "print(\"Best Hyperparameters:\", best_params)\n",
    "print(\"Mean Squared Error:\", mse)\n",
    "print(\"Mean Absolute Error:\", mae)\n",
    "print(\"R-squared:\", r2)\n"
   ]
  },
  {
   "cell_type": "code",
   "execution_count": 4,
   "metadata": {},
   "outputs": [],
   "source": [
    "import pickle"
   ]
  },
  {
   "cell_type": "code",
   "execution_count": 5,
   "metadata": {},
   "outputs": [],
   "source": [
    "with open(\"AdaBoostCvCs.pkl\",\"wb\") as f:\n",
    "    pickle.dump(best_model,f)"
   ]
  },
  {
   "cell_type": "code",
   "execution_count": 6,
   "metadata": {},
   "outputs": [],
   "source": [
    "with open(\"AdaBoostCvCs.pkl\",\"rb\") as f:\n",
    "    loaded_model = pickle.load(f)"
   ]
  },
  {
   "cell_type": "code",
   "execution_count": 7,
   "metadata": {},
   "outputs": [],
   "source": [
    "y_pred = loaded_model.predict(X_test)"
   ]
  },
  {
   "cell_type": "code",
   "execution_count": 8,
   "metadata": {},
   "outputs": [
    {
     "data": {
      "text/plain": [
       "array([ True,  True,  True,  True,  True,  True,  True,  True,  True,\n",
       "        True,  True,  True,  True,  True,  True,  True,  True,  True,\n",
       "        True,  True,  True,  True,  True,  True,  True,  True,  True,\n",
       "        True,  True,  True,  True,  True,  True,  True,  True,  True,\n",
       "        True,  True,  True,  True,  True,  True,  True,  True,  True,\n",
       "        True,  True,  True,  True,  True,  True,  True,  True,  True,\n",
       "        True,  True,  True,  True,  True,  True,  True,  True,  True,\n",
       "        True,  True,  True,  True,  True,  True,  True,  True,  True,\n",
       "        True,  True,  True,  True,  True,  True,  True,  True,  True,\n",
       "        True,  True,  True,  True,  True,  True,  True])"
      ]
     },
     "execution_count": 8,
     "metadata": {},
     "output_type": "execute_result"
    }
   ],
   "source": [
    "y_pred == predictions"
   ]
  },
  {
   "cell_type": "code",
   "execution_count": null,
   "metadata": {},
   "outputs": [],
   "source": []
  }
 ],
 "metadata": {
  "colab": {
   "provenance": []
  },
  "kernelspec": {
   "display_name": "Python 3 (ipykernel)",
   "language": "python",
   "name": "python3"
  },
  "language_info": {
   "codemirror_mode": {
    "name": "ipython",
    "version": 3
   },
   "file_extension": ".py",
   "mimetype": "text/x-python",
   "name": "python",
   "nbconvert_exporter": "python",
   "pygments_lexer": "ipython3",
   "version": "3.9.17"
  }
 },
 "nbformat": 4,
 "nbformat_minor": 1
}
