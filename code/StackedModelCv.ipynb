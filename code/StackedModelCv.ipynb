{
 "cells": [
  {
   "cell_type": "code",
   "execution_count": 4,
   "metadata": {
    "id": "Yqbuw_cEpuG3"
   },
   "outputs": [],
   "source": [
    "from sklearn.model_selection import train_test_split\n",
    "from sklearn.ensemble import RandomForestRegressor, GradientBoostingRegressor\n",
    "from sklearn.linear_model import LinearRegression\n",
    "from sklearn.metrics import r2_score, mean_squared_error\n",
    "from sklearn.model_selection import KFold, GridSearchCV\n",
    "from PreproccessingCv import X, y"
   ]
  },
  {
   "cell_type": "code",
   "execution_count": 5,
   "metadata": {
    "id": "lTLZmVuWpz_x"
   },
   "outputs": [],
   "source": [
    "X_train, X_test, y_train, y_test = train_test_split(X, y, test_size=0.2, random_state=42)"
   ]
  },
  {
   "cell_type": "code",
   "execution_count": 6,
   "metadata": {
    "id": "6H-oGhDgqOth"
   },
   "outputs": [],
   "source": [
    "base_models = [\n",
    "    ('random_forest', RandomForestRegressor(random_state=0)),\n",
    "    ('gradient_boosting', GradientBoostingRegressor(random_state=0))\n",
    "]\n",
    "\n",
    "meta_model = LinearRegression()\n",
    "\n",
    "rf_param_grid = {\n",
    "    'n_estimators': [50, 100, 200],    \n",
    "    'max_depth': [None, 10, 20, 30],    \n",
    "    'min_samples_split': [2, 5, 10],    \n",
    "    'min_samples_leaf': [1, 2, 4],      \n",
    "    'max_features': ['auto', 'sqrt', 'log2']  \n",
    "}\n",
    "\n",
    "gb_param_grid = {\n",
    "    'n_estimators': [50, 100, 200],    \n",
    "    'learning_rate': [0.01, 0.1, 0.2],\n",
    "    'max_depth': [3, 5, 7],             \n",
    "    'min_samples_split': [2, 5, 10],    \n",
    "    'min_samples_leaf': [1, 2, 4],      \n",
    "}\n",
    "\n",
    "meta_param_grid = {\n",
    "    'fit_intercept': [True, False],  \n",
    "    'positive': [True, False],        \n",
    "}"
   ]
  },
  {
   "cell_type": "code",
   "execution_count": 7,
   "metadata": {
    "id": "1pq0zl5QqRHP"
   },
   "outputs": [],
   "source": [
    "train_meta_features = np.zeros((X_train.shape[0], len(base_models)))"
   ]
  },
  {
   "cell_type": "code",
   "execution_count": 8,
   "metadata": {
    "colab": {
     "base_uri": "https://localhost:8080/"
    },
    "id": "IyggPN4XqVRe",
    "outputId": "bd29fb8d-526f-4469-b416-5b7919d7d18e"
   },
   "outputs": [
    {
     "name": "stderr",
     "output_type": "stream",
     "text": [
      "/usr/local/lib/python3.10/dist-packages/sklearn/ensemble/_forest.py:413: FutureWarning: `max_features='auto'` has been deprecated in 1.1 and will be removed in 1.3. To keep the past behaviour, explicitly set `max_features=1.0` or remove this parameter as it is also the default value for RandomForestRegressors and ExtraTreesRegressors.\n",
      "  warn(\n"
     ]
    },
    {
     "name": "stdout",
     "output_type": "stream",
     "text": [
      "Best parameters for random_forest: {'max_depth': None, 'max_features': 'auto', 'min_samples_leaf': 1, 'min_samples_split': 2, 'n_estimators': 100}\n",
      "Best parameters for gradient_boosting: {'learning_rate': 0.1, 'max_depth': 3, 'min_samples_leaf': 1, 'min_samples_split': 10, 'n_estimators': 200}\n"
     ]
    }
   ],
   "source": [
    "best_base_models = {}\n",
    "for i, (name, model) in enumerate(base_models):\n",
    "    grid_search = GridSearchCV(estimator=model, param_grid=rf_param_grid if name == 'random_forest' else gb_param_grid,\n",
    "                               cv=3, scoring='r2', n_jobs=-1)\n",
    "    grid_search.fit(X_train, y_train[\"cv\"])\n",
    "    best_base_models[name] = grid_search.best_estimator_\n",
    "    print(\"Best parameters for {}:\".format(name), grid_search.best_params_)\n",
    "\n",
    "    train_meta_features[:, i] = grid_search.best_estimator_.predict(X_train)"
   ]
  },
  {
   "cell_type": "code",
   "execution_count": 9,
   "metadata": {
    "colab": {
     "base_uri": "https://localhost:8080/"
    },
    "id": "afFG0VC2qbuB",
    "outputId": "b2871c9d-2acc-4830-9b37-0a3ee8f47933"
   },
   "outputs": [
    {
     "name": "stdout",
     "output_type": "stream",
     "text": [
      "Best parameters for Meta-model (Linear Regression): {'fit_intercept': False, 'positive': False}\n"
     ]
    }
   ],
   "source": [
    "meta_grid_search = GridSearchCV(estimator=meta_model, param_grid=meta_param_grid,\n",
    "                                cv=3, scoring='r2', n_jobs=-1)\n",
    "meta_grid_search.fit(train_meta_features, y_train[\"cv\"])\n",
    "best_meta_model = meta_grid_search.best_estimator_\n",
    "print(\"Best parameters for Meta-model (Linear Regression):\", meta_grid_search.best_params_)"
   ]
  },
  {
   "cell_type": "code",
   "execution_count": 10,
   "metadata": {
    "id": "3i4Csmcyqjr9"
   },
   "outputs": [],
   "source": [
    "X_test = X_test.values"
   ]
  },
  {
   "cell_type": "code",
   "execution_count": 11,
   "metadata": {
    "colab": {
     "base_uri": "https://localhost:8080/"
    },
    "id": "64pH3rgUqjpH",
    "outputId": "a2406011-3db8-429b-d01b-0b64bd639ba7"
   },
   "outputs": [
    {
     "name": "stderr",
     "output_type": "stream",
     "text": [
      "/usr/local/lib/python3.10/dist-packages/sklearn/base.py:439: UserWarning: X does not have valid feature names, but RandomForestRegressor was fitted with feature names\n",
      "  warnings.warn(\n",
      "/usr/local/lib/python3.10/dist-packages/sklearn/base.py:439: UserWarning: X does not have valid feature names, but GradientBoostingRegressor was fitted with feature names\n",
      "  warnings.warn(\n"
     ]
    }
   ],
   "source": [
    "test_meta_features = np.column_stack(tuple(model.predict(X_test) for model in best_base_models.values()))\n",
    "meta_predictions = best_meta_model.predict(test_meta_features)"
   ]
  },
  {
   "cell_type": "code",
   "execution_count": 12,
   "metadata": {
    "colab": {
     "base_uri": "https://localhost:8080/"
    },
    "id": "OSfxlJYTqjnD",
    "outputId": "02a55711-5779-4e7e-f629-ae60f8289811"
   },
   "outputs": [
    {
     "name": "stdout",
     "output_type": "stream",
     "text": [
      "R^2 Score after Hyperparameter Tuning: 0.987684146021708\n",
      "mse: 0.014597507548455813\n"
     ]
    }
   ],
   "source": [
    "r2 = r2_score(y_test, meta_predictions)\n",
    "print(\"R^2 Score after Hyperparameter Tuning:\", r2)\n",
    "print(\"mse:\",mean_squared_error(y_test, meta_predictions))"
   ]
  }
 ],
 "metadata": {
  "colab": {
   "provenance": []
  },
  "kernelspec": {
   "display_name": "Python 3 (ipykernel)",
   "language": "python",
   "name": "python3"
  },
  "language_info": {
   "codemirror_mode": {
    "name": "ipython",
    "version": 3
   },
   "file_extension": ".py",
   "mimetype": "text/x-python",
   "name": "python",
   "nbconvert_exporter": "python",
   "pygments_lexer": "ipython3",
   "version": "3.9.17"
  }
 },
 "nbformat": 4,
 "nbformat_minor": 1
}
