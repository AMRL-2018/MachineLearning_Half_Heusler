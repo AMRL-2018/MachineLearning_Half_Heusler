{
 "cells": [
  {
   "cell_type": "code",
   "execution_count": 7,
   "metadata": {
    "executionInfo": {
     "elapsed": 906,
     "status": "ok",
     "timestamp": 1710490532043,
     "user": {
      "displayName": "Laxman Chaudhary",
      "userId": "12630204473110541440"
     },
     "user_tz": -345
    },
    "id": "-5Z9IfusFfcX"
   },
   "outputs": [],
   "source": [
    "from sklearn.model_selection import GridSearchCV, train_test_split\n",
    "from sklearn.metrics import r2_score, mean_squared_error,mean_absolute_error\n",
    "from sklearn.preprocessing import LabelEncoder, minmax_scale,StandardScaler\n",
    "from sklearn.tree import DecisionTreeRegressor\n",
    "from PreproccesingAlatt import X, y"
   ]
  },
  {
   "cell_type": "code",
   "execution_count": 8,
   "metadata": {
    "executionInfo": {
     "elapsed": 11,
     "status": "ok",
     "timestamp": 1710490532044,
     "user": {
      "displayName": "Laxman Chaudhary",
      "userId": "12630204473110541440"
     },
     "user_tz": -345
    },
    "id": "SPgyMbWWJd5Q"
   },
   "outputs": [],
   "source": [
    "X_train, X_test, y_train, y_test = train_test_split(X, y, test_size=0.2, random_state=42)"
   ]
  },
  {
   "cell_type": "code",
   "execution_count": 9,
   "metadata": {
    "colab": {
     "base_uri": "https://localhost:8080/"
    },
    "executionInfo": {
     "elapsed": 5547,
     "status": "ok",
     "timestamp": 1710490537582,
     "user": {
      "displayName": "Laxman Chaudhary",
      "userId": "12630204473110541440"
     },
     "user_tz": -345
    },
    "id": "_s_5vxZ0JoQb",
    "outputId": "db266681-9900-4543-9238-f8076ab4d097"
   },
   "outputs": [
    {
     "name": "stderr",
     "output_type": "stream",
     "text": [
      "/usr/local/lib/python3.10/dist-packages/sklearn/tree/_classes.py:277: FutureWarning: `max_features='auto'` has been deprecated in 1.1 and will be removed in 1.3. To keep the past behaviour, explicitly set `max_features=1.0'`.\n",
      "  warnings.warn(\n",
      "/usr/local/lib/python3.10/dist-packages/sklearn/tree/_classes.py:277: FutureWarning: `max_features='auto'` has been deprecated in 1.1 and will be removed in 1.3. To keep the past behaviour, explicitly set `max_features=1.0'`.\n",
      "  warnings.warn(\n"
     ]
    }
   ],
   "source": [
    "param_grid = {\n",
    "    'max_depth': [None, 10, 20, 30], \n",
    "    'min_samples_split': [2, 5, 10], \n",
    "    'min_samples_leaf': [1, 2, 4],  \n",
    "    'max_features': ['auto', 'sqrt', 'log2'], \n",
    "}\n",
    "\n",
    "model = DecisionTreeRegressor(random_state=0)\n",
    "grid_search = GridSearchCV(estimator=model, param_grid=param_grid, cv=3, scoring='neg_mean_squared_error', n_jobs=-1)\n",
    "grid_search.fit(X_train, y_train)\n",
    "best_params = grid_search.best_params_\n",
    "best_model = DecisionTreeRegressor(random_state=42, **best_params)\n",
    "best_model.fit(X_train, y_train)\n",
    "predictions = best_model.predict(X_test)\n"
   ]
  },
  {
   "cell_type": "code",
   "execution_count": 10,
   "metadata": {
    "colab": {
     "base_uri": "https://localhost:8080/"
    },
    "executionInfo": {
     "elapsed": 14,
     "status": "ok",
     "timestamp": 1710490537584,
     "user": {
      "displayName": "Laxman Chaudhary",
      "userId": "12630204473110541440"
     },
     "user_tz": -345
    },
    "id": "yJ7zv4pTJsPK",
    "outputId": "4a7af961-9eb8-46a2-8c06-78fa3c3f4ad6"
   },
   "outputs": [
    {
     "name": "stdout",
     "output_type": "stream",
     "text": [
      "Best Hyperparameters: {'max_depth': None, 'max_features': 'auto', 'min_samples_leaf': 2, 'min_samples_split': 5}\n",
      "Mean Squared Error: 0.01383827627547175\n",
      "Mean Absolute Error: 0.08137337349657982\n",
      "R-squared: 0.9886403653972016\n"
     ]
    }
   ],
   "source": [
    "mse = mean_squared_error(y_test, predictions)\n",
    "mae = mean_absolute_error(y_test, predictions)\n",
    "r2 = r2_score(y_test, predictions)\n",
    "\n",
    "print(\"Best Hyperparameters:\", best_params)\n",
    "print(\"Mean Squared Error:\", mse)\n",
    "print(\"Mean Absolute Error:\", mae)\n",
    "print(\"R-squared:\", r2)"
   ]
  },
  {
   "cell_type": "code",
   "execution_count": 11,
   "metadata": {
    "executionInfo": {
     "elapsed": 11,
     "status": "ok",
     "timestamp": 1710490549685,
     "user": {
      "displayName": "Laxman Chaudhary",
      "userId": "12630204473110541440"
     },
     "user_tz": -345
    },
    "id": "pxNmYxxLJsMc"
   },
   "outputs": [],
   "source": [
    "import pickle"
   ]
  },
  {
   "cell_type": "code",
   "execution_count": 12,
   "metadata": {
    "executionInfo": {
     "elapsed": 12,
     "status": "ok",
     "timestamp": 1710490593928,
     "user": {
      "displayName": "Laxman Chaudhary",
      "userId": "12630204473110541440"
     },
     "user_tz": -345
    },
    "id": "LLVWxWs2Js2m"
   },
   "outputs": [],
   "source": [
    "with open(\"DecisionTreesAlat.pkl\", \"wb\") as f:\n",
    "  pickle.dump(best_model, f)"
   ]
  }
 ],
 "metadata": {
  "colab": {
   "authorship_tag": "ABX9TyNuADom+RTAyXwzEQYcaAD3",
   "provenance": []
  },
  "kernelspec": {
   "display_name": "Python 3 (ipykernel)",
   "language": "python",
   "name": "python3"
  },
  "language_info": {
   "codemirror_mode": {
    "name": "ipython",
    "version": 3
   },
   "file_extension": ".py",
   "mimetype": "text/x-python",
   "name": "python",
   "nbconvert_exporter": "python",
   "pygments_lexer": "ipython3",
   "version": "3.9.17"
  }
 },
 "nbformat": 4,
 "nbformat_minor": 1
}
