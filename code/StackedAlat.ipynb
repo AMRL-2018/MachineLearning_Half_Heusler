{
 "cells": [
  {
   "cell_type": "code",
   "execution_count": null,
   "metadata": {
    "id": "nhe7yd6b-1pB"
   },
   "outputs": [],
   "source": [
    "from sklearn.model_selection import train_test_split\n",
    "from sklearn.ensemble import RandomForestRegressor, GradientBoostingRegressor\n",
    "from sklearn.linear_model import LinearRegression\n",
    "from sklearn.metrics import r2_score, mean_squared_error, mean_absolute_error\n",
    "from sklearn.model_selection import KFold, GridSearchCV\n",
    "from PreproccesingAlatt import X, y"
   ]
  },
  {
   "cell_type": "code",
   "execution_count": null,
   "metadata": {
    "id": "V5Yo-H5N_BP1"
   },
   "outputs": [],
   "source": [
    "X_train, X_test, y_train, y_test = train_test_split(X, y, test_size=0.2, random_state=42)"
   ]
  },
  {
   "cell_type": "code",
   "execution_count": null,
   "metadata": {
    "id": "_26veqH1AEvM"
   },
   "outputs": [],
   "source": [
    "base_models = [\n",
    "    ('random_forest', RandomForestRegressor(random_state=0)),\n",
    "    ('gradient_boosting', GradientBoostingRegressor(random_state=0))\n",
    "]\n",
    "\n",
    "meta_model = LinearRegression()\n",
    "\n",
    "rf_param_grid = {\n",
    "    'n_estimators': [50, 100, 200],    \n",
    "    'max_depth': [None, 10, 20, 30],   \n",
    "    'min_samples_split': [2, 5, 10],    \n",
    "    'min_samples_leaf': [1, 2, 4],      \n",
    "    'max_features': ['auto', 'sqrt', 'log2']  \n",
    "}\n",
    "\n",
    "gb_param_grid = {\n",
    "    'n_estimators': [50, 100, 200],    \n",
    "    'learning_rate': [0.01, 0.1, 0.2], \n",
    "    'max_depth': [3, 5, 7],             \n",
    "    'min_samples_split': [2, 5, 10],    \n",
    "    'min_samples_leaf': [1, 2, 4],      \n",
    "}\n",
    "\n",
    "meta_param_grid = {\n",
    "    'fit_intercept': [True, False],  \n",
    "    'positive': [True, False],        \n",
    "}"
   ]
  },
  {
   "cell_type": "code",
   "execution_count": null,
   "metadata": {
    "id": "8Q5W_-n4AJg2"
   },
   "outputs": [],
   "source": [
    "train_meta_features = np.zeros((X_train.shape[0], len(base_models)))"
   ]
  },
  {
   "cell_type": "code",
   "execution_count": null,
   "metadata": {
    "colab": {
     "base_uri": "https://localhost:8080/"
    },
    "executionInfo": {
     "elapsed": 388349,
     "status": "ok",
     "timestamp": 1710487972964,
     "user": {
      "displayName": "Laxman Chaudhary",
      "userId": "12630204473110541440"
     },
     "user_tz": -345
    },
    "id": "rmDcD7uoAMFh",
    "outputId": "482b5b87-b9d3-4320-e990-edf2b0c491e6"
   },
   "outputs": [
    {
     "name": "stderr",
     "output_type": "stream",
     "text": [
      "/usr/local/lib/python3.10/dist-packages/sklearn/model_selection/_search.py:909: DataConversionWarning: A column-vector y was passed when a 1d array was expected. Please change the shape of y to (n_samples,), for example using ravel().\n",
      "  self.best_estimator_.fit(X, y, **fit_params)\n",
      "/usr/local/lib/python3.10/dist-packages/sklearn/ensemble/_forest.py:413: FutureWarning: `max_features='auto'` has been deprecated in 1.1 and will be removed in 1.3. To keep the past behaviour, explicitly set `max_features=1.0` or remove this parameter as it is also the default value for RandomForestRegressors and ExtraTreesRegressors.\n",
      "  warn(\n"
     ]
    },
    {
     "name": "stdout",
     "output_type": "stream",
     "text": [
      "Best parameters for random_forest: {'max_depth': 10, 'max_features': 'auto', 'min_samples_leaf': 1, 'min_samples_split': 2, 'n_estimators': 100}\n"
     ]
    },
    {
     "name": "stderr",
     "output_type": "stream",
     "text": [
      "/usr/local/lib/python3.10/dist-packages/sklearn/ensemble/_gb.py:437: DataConversionWarning: A column-vector y was passed when a 1d array was expected. Please change the shape of y to (n_samples, ), for example using ravel().\n",
      "  y = column_or_1d(y, warn=True)\n"
     ]
    },
    {
     "name": "stdout",
     "output_type": "stream",
     "text": [
      "Best parameters for gradient_boosting: {'learning_rate': 0.1, 'max_depth': 3, 'min_samples_leaf': 1, 'min_samples_split': 10, 'n_estimators': 200}\n"
     ]
    }
   ],
   "source": [
    "best_base_models = {}\n",
    "for i, (name, model) in enumerate(base_models):\n",
    "    grid_search = GridSearchCV(estimator=model, param_grid=rf_param_grid if name == 'random_forest' else gb_param_grid,\n",
    "                               cv=3, scoring='r2', n_jobs=-1)\n",
    "    grid_search.fit(X_train, y_train)\n",
    "    best_base_models[name] = grid_search.best_estimator_\n",
    "    print(\"Best parameters for {}:\".format(name), grid_search.best_params_)\n",
    "\n",
    "    train_meta_features[:, i] = grid_search.best_estimator_.predict(X_train)"
   ]
  },
  {
   "cell_type": "code",
   "execution_count": null,
   "metadata": {
    "colab": {
     "base_uri": "https://localhost:8080/"
    },
    "executionInfo": {
     "elapsed": 507,
     "status": "ok",
     "timestamp": 1710487990372,
     "user": {
      "displayName": "Laxman Chaudhary",
      "userId": "12630204473110541440"
     },
     "user_tz": -345
    },
    "id": "DU95NOZlAPRI",
    "outputId": "44f891ed-5572-4809-c03a-d5b33b0c1f66"
   },
   "outputs": [
    {
     "name": "stdout",
     "output_type": "stream",
     "text": [
      "Best parameters for Meta-model (Linear Regression): {'fit_intercept': False, 'positive': True}\n"
     ]
    }
   ],
   "source": [
    "meta_grid_search = GridSearchCV(estimator=meta_model, param_grid=meta_param_grid,\n",
    "                                cv=3, scoring='r2', n_jobs=-1)\n",
    "meta_grid_search.fit(train_meta_features, y_train)\n",
    "best_meta_model = meta_grid_search.best_estimator_\n",
    "print(\"Best parameters for Meta-model (Linear Regression):\", meta_grid_search.best_params_)"
   ]
  },
  {
   "cell_type": "code",
   "execution_count": null,
   "metadata": {
    "colab": {
     "base_uri": "https://localhost:8080/"
    },
    "executionInfo": {
     "elapsed": 742,
     "status": "ok",
     "timestamp": 1710487997636,
     "user": {
      "displayName": "Laxman Chaudhary",
      "userId": "12630204473110541440"
     },
     "user_tz": -345
    },
    "id": "I60FU7gcAaaX",
    "outputId": "d387534f-7417-4d0e-bfae-15b3ea6cbe1b"
   },
   "outputs": [
    {
     "name": "stderr",
     "output_type": "stream",
     "text": [
      "/usr/local/lib/python3.10/dist-packages/sklearn/base.py:439: UserWarning: X does not have valid feature names, but RandomForestRegressor was fitted with feature names\n",
      "  warnings.warn(\n",
      "/usr/local/lib/python3.10/dist-packages/sklearn/base.py:439: UserWarning: X does not have valid feature names, but GradientBoostingRegressor was fitted with feature names\n",
      "  warnings.warn(\n"
     ]
    }
   ],
   "source": [
    "X_test = X_test.values\n",
    "test_meta_features = np.column_stack(tuple(model.predict(X_test) for model in best_base_models.values()))\n",
    "meta_predictions = best_meta_model.predict(test_meta_features)"
   ]
  },
  {
   "cell_type": "code",
   "execution_count": null,
   "metadata": {
    "colab": {
     "base_uri": "https://localhost:8080/"
    },
    "executionInfo": {
     "elapsed": 792,
     "status": "ok",
     "timestamp": 1710488013621,
     "user": {
      "displayName": "Laxman Chaudhary",
      "userId": "12630204473110541440"
     },
     "user_tz": -345
    },
    "id": "rGP6KsXGAaXj",
    "outputId": "fe9ba5d9-c6ee-4026-d9a6-c2eada1875d6"
   },
   "outputs": [
    {
     "name": "stdout",
     "output_type": "stream",
     "text": [
      "R^2 Score after Hyperparameter Tuning: 0.9970546074894654\n",
      "mse: 0.003588069222793649\n"
     ]
    }
   ],
   "source": [
    "r2 = r2_score(y_test, meta_predictions)\n",
    "print(\"R^2 Score after Hyperparameter Tuning:\", r2)\n",
    "print(\"mse:\",mean_squared_error(y_test, meta_predictions))"
   ]
  },
  {
   "cell_type": "code",
   "execution_count": 2,
   "metadata": {
    "colab": {
     "base_uri": "https://localhost:8080/",
     "height": 141
    },
    "executionInfo": {
     "elapsed": 486,
     "status": "error",
     "timestamp": 1710494663921,
     "user": {
      "displayName": "Laxman Chaudhary",
      "userId": "12630204473110541440"
     },
     "user_tz": -345
    },
    "id": "dV5vH2xXAaVU",
    "outputId": "c0404cda-3c31-48aa-e732-54b614832d48"
   },
   "outputs": [
    {
     "ename": "NameError",
     "evalue": "name 'mean_absolute_error' is not defined",
     "output_type": "error",
     "traceback": [
      "\u001b[0;31m---------------------------------------------------------------------------\u001b[0m",
      "\u001b[0;31mNameError\u001b[0m                                 Traceback (most recent call last)",
      "\u001b[0;32m<ipython-input-2-d9217db31c55>\u001b[0m in \u001b[0;36m<cell line: 1>\u001b[0;34m()\u001b[0m\n\u001b[0;32m----> 1\u001b[0;31m \u001b[0mprint\u001b[0m\u001b[0;34m(\u001b[0m\u001b[0;34m\"mae:\"\u001b[0m\u001b[0;34m,\u001b[0m \u001b[0mmean_absolute_error\u001b[0m\u001b[0;34m(\u001b[0m\u001b[0my_test\u001b[0m\u001b[0;34m,\u001b[0m \u001b[0mmeta_predictions\u001b[0m\u001b[0;34m)\u001b[0m\u001b[0;34m)\u001b[0m\u001b[0;34m\u001b[0m\u001b[0;34m\u001b[0m\u001b[0m\n\u001b[0m",
      "\u001b[0;31mNameError\u001b[0m: name 'mean_absolute_error' is not defined"
     ]
    }
   ],
   "source": [
    "print(\"mae:\", mean_absolute_error(y_test, meta_predictions))"
   ]
  },
  {
   "cell_type": "code",
   "execution_count": null,
   "metadata": {
    "id": "UgkqAEU2AaHT"
   },
   "outputs": [],
   "source": [
    "import pickle"
   ]
  },
  {
   "cell_type": "code",
   "execution_count": null,
   "metadata": {
    "id": "p30UWlybKnhO"
   },
   "outputs": [],
   "source": [
    "with open(\"stackedAlat.pkl\",\"wb\") as f:\n",
    "  pickle.dump(best_meta_model, f)"
   ]
  },
  {
   "cell_type": "code",
   "execution_count": null,
   "metadata": {
    "id": "xOhLUmDNK54g"
   },
   "outputs": [],
   "source": [
    "with open(\"base_modelsAlat.pkl\",\"wb\") as f:\n",
    "  pickle.dump(best_base_models,f)"
   ]
  }
 ],
 "metadata": {
  "colab": {
   "authorship_tag": "ABX9TyPY9lFL46z3wUUBYO52tPRB",
   "provenance": []
  },
  "kernelspec": {
   "display_name": "Python 3 (ipykernel)",
   "language": "python",
   "name": "python3"
  },
  "language_info": {
   "codemirror_mode": {
    "name": "ipython",
    "version": 3
   },
   "file_extension": ".py",
   "mimetype": "text/x-python",
   "name": "python",
   "nbconvert_exporter": "python",
   "pygments_lexer": "ipython3",
   "version": "3.9.17"
  }
 },
 "nbformat": 4,
 "nbformat_minor": 1
}
